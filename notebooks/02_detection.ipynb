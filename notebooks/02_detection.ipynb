{
 "cells": [
  {
   "cell_type": "markdown",
   "metadata": {},
   "source": [
    "# Agenda\n",
    "\n",
    "1. Detection\n",
    "\n",
    "    * Different tasks/taxonomy\n",
    "    * Conceptual model\n",
    "    * Interface\n",
    "\n",
    "2. `skchange` algorithm framework\n",
    "\n",
    "    * Interval scoring\n",
    "    * Search\n",
    "\n",
    "3. Interval scoring\n",
    "\n",
    "    * Costs\n",
    "    * Change scores\n",
    "    * Anomaly scores\n",
    "\n",
    "4. Change detection\n",
    "\n",
    "5. Segment anomaly detection"
   ]
  },
  {
   "cell_type": "markdown",
   "metadata": {},
   "source": [
    "# The detection module\n",
    "Experimental module, still under heavy development.\n",
    "\n",
    "Contributions appreciated!"
   ]
  },
  {
   "cell_type": "markdown",
   "metadata": {},
   "source": [
    "# Detection tasks\n",
    "\n",
    "1. Change detection\n",
    "2. Segmentation\n",
    "3. Point anomaly/outlier detection\n",
    "4. Segment anomaly detection\n"
   ]
  },
  {
   "cell_type": "markdown",
   "metadata": {},
   "source": [
    "## Change detection and segmentation\n",
    "\n",
    "![Change detection and segmentation](img/changepoints_and_segments.png)\n",
    "\n",
    "* Change detection: Detect points in time where the data generating process changes significantly.\n",
    "* Segmentation: Divide the data into segments based on certain criteria. The same label can be applied at multiple disconnected segments.\n",
    "\n",
    "### Use cases\n",
    "\n",
    "* Data cleaning: Remove segments that are not relevant for the analysis.\n",
    "* Preprocessing: Divide the data into homogenous parts for individual analysis.\n",
    "* Detect interesting patterns: Anomaly detection, motif discovery, state transitions."
   ]
  },
  {
   "cell_type": "markdown",
   "metadata": {},
   "source": [
    "## Point and segment anomaly detection\n",
    "\n",
    "![Point and Segment Anomalies](img/point_vs_segment_anomaly.png)\n",
    "\n",
    "* Point anomaly detection: Detect individual data points that are significantly different from the rest of the data.\n",
    "* Segment anomaly detection: Detect segments of data that are significantly different from the rest of the data.\n",
    "\n",
    "### Use cases\n",
    "\n",
    "* Data cleaning: Remove anomalies from the data.\n",
    "* Detect interesting events: Fault detection, fraud detection, etc."
   ]
  },
  {
   "cell_type": "markdown",
   "metadata": {},
   "source": [
    "# Detector conceptual model\n",
    "\n",
    "1. Set hyperparameters\n",
    "2. Fit the detector to training data\n",
    "3. Detect events on new data\n",
    "\n",
    "    * Input: A time series\n",
    "    * Output: Detected events.\n",
    "\n",
    "        - Change points\n",
    "        - Segments\n",
    "        - Point anomalies\n",
    "        - Segment anomalies\n",
    "        - Change intervals\n",
    "        - ... "
   ]
  },
  {
   "cell_type": "markdown",
   "metadata": {},
   "source": [
    "# Detector interface\n",
    "\n",
    "* `__init__(self, ...)`\n",
    "\n",
    "    - Set hyperparameters.\n",
    "* `fit(self, X, y=None)`\n",
    "\n",
    "    - Fit the detector to the training data.\n",
    "* `predict(self, X)`\n",
    "\n",
    "    - Detect events on new data. \n",
    "    - Sparse format: One entry per detected event.\n",
    "* `transform(X)` \n",
    "\n",
    "    - Detect events on new data. \n",
    "    - Dense format: One entry per input time point.\n",
    "    - Default: Run `predict` + sparse to dense conversion.\n",
    "* `transform_scores(X)` [optional] \n",
    "\n",
    "    - Return detection scores for each time point."
   ]
  },
  {
   "cell_type": "code",
   "execution_count": null,
   "metadata": {},
   "outputs": [],
   "source": [
    "\n"
   ]
  },
  {
   "cell_type": "code",
   "execution_count": null,
   "metadata": {},
   "outputs": [],
   "source": []
  }
 ],
 "metadata": {
  "kernelspec": {
   "display_name": "venv",
   "language": "python",
   "name": "python3"
  },
  "language_info": {
   "codemirror_mode": {
    "name": "ipython",
    "version": 3
   },
   "file_extension": ".py",
   "mimetype": "text/x-python",
   "name": "python",
   "nbconvert_exporter": "python",
   "pygments_lexer": "ipython3",
   "version": "3.12.7"
  }
 },
 "nbformat": 4,
 "nbformat_minor": 2
}
