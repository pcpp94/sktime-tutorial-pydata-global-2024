{
 "cells": [
  {
   "cell_type": "markdown",
   "metadata": {},
   "source": [
    "<img src=\"./img/sktime-logo-text-horizontal.jpg\" alt=\"sktime logo\" style=\"width: 100%; max-width: 600px;\">"
   ]
  },
  {
   "cell_type": "markdown",
   "metadata": {},
   "source": [
    "# Type 1 Diabetes - Meal Identification Change Point Benchmark"
   ]
  },
  {
   "cell_type": "markdown",
   "metadata": {},
   "source": [
    "## The Purpose of the Challenge\n",
    "\n",
    "Type 1 Diabetes (T1D) is a medical condition where the pancreas produces little to no insulin, the hormone that regulates blood glucose levels. \n",
    "Managing T1D for most is immensely challenging, the main goal is a delicate balance between:\n",
    "1. Maximizing Time in Range (3.9mmol/L - 10.0 mmo/L blood glucose levels (BGL)),\n",
    "2. Minimizing the short term risks caused by hypoglycemia (when BGL < 3.9mmol/L)\n",
    "3. Minimizing the likelihood of [diabetes distress](https://www.diabetes.ca/about-diabetes-(3)/impact-stories/distressed-by-diabetes) or \"diabetes burnout\".\n",
    "   \n",
    "The best strategies to maximize TIR and minimize hypoglycemia risks usually involve meticulous tracking of carbohydrates consumed, and the amount of insulin taken before the meal. Insulin must be administered for nearly every meal that contains more than a 5-10g of carbs (exact amount varys by individual). Generally, it is not recommended that T1Ds discontinue consumption of carbohydrates, or risk [diabetic ketoacidosis](https://www.mayoclinic.org/diseases-conditions/diabetic-ketoacidosis/symptoms-causes/syc-20371551). The challenge with meticulously logging every meal is that it causes cognitive burden that increases the likelihood of diabetes distress. When observed outside of the context of the mental burden of meticulously tracking every meal, it leads to improved outcomes, it becomes much easier to estimate the correct timing and dosage quantity of insulin that will maximize your TIR if you have a detailed log because you can see how much insulin you took for similar previous meals.\n",
    "\n",
    "Common questions evaluated on the [diabetes distress scale](https://diabetes.ca/DiabetesCanadaWebsite/media/Health-care-providers/2018%20Clinical%20Practice%20Guidelines/the-DDS-with-scoring-recommendations.pdf?ext=.pdf) where diabetics are asked to rate the following questions on a 6 point scale from *Not a Problem* to *A Very Serious Problem* (quoted from linked resource):\n",
    "\n",
    "1. Feeling that diabetes is taking up too much of my mental and physical energy every day.\n",
    "2. Not feeling confident in my day-to-day ability to manage diabetes.\n",
    "3. Feeling that I am often failing with my diabetes routine. \n",
    "4. Feeling that diabetes controls my life. \n",
    "5. Feeling that I am not sticking closely enough to a good meal plan.\n",
    "6. Feeling overwhelmed by the demands of living with diabetes. \n",
    "7. Not feeling motivated to keep up my diabetes self management. \n",
    "\n",
    "The focus of this benchmark is to provide a real-world usecase for creating tools that alleviate diabetes distress. \n",
    "A significant amount of research in the diabetes community now focuses on ways of reducing the severity and likelihood of diabetes distress. \n",
    "Our question is, what tools can we develop to make the logging of meals more streamlined and automated? \n",
    "Using a stream of data from [continuous glucose monitors (CGM)](https://www.niddk.nih.gov/health-information/diabetes/overview/managing-diabetes/continuous-glucose-monitoring), can we reliably and automatically identify meals in a blood glucose time series dataset? \n",
    "Possible usecases of this would be gentle notifications to the user at the end of a day identifying possible unlabelled meals, with a prepopulated change point log.\n",
    "\n",
    "The result is that diabetics would have a more richly detailed log, with a reduced cognitive burden, but additionally researchers would have improved datasets that could lead to improvements in other downstream tasks like probabilistic hypoglycemic forecasting. \n",
    "\n",
    "## \n"
   ]
  },
  {
   "cell_type": "code",
   "execution_count": null,
   "metadata": {
    "vscode": {
     "languageId": "plaintext"
    }
   },
   "outputs": [],
   "source": [
    "from simglucose.simulation.env import T1DSimEnv\n",
    "from simglucose.controller.basal_bolus_ctrller import BBController\n",
    "from simglucose.sensor.cgm import CGMSensor\n",
    "from simglucose.actuator.pump import InsulinPump\n",
    "from simglucose.patient.t1dpatient import T1DPatient\n",
    "from simglucose.simulation.scenario_gen import RandomScenario\n",
    "from simglucose.simulation.scenario import CustomScenario\n",
    "from simglucose.simulation.sim_engine import SimObj, sim, batch_sim\n",
    "from datetime import timedelta\n",
    "from datetime import datetime\n",
    "\n",
    "# specify start_time as the beginning of today\n",
    "now = datetime.now()\n",
    "start_time = datetime.combine(now.date(), datetime.min.time())\n",
    "\n",
    "# --------- Create Random Scenario --------------\n",
    "# Specify results saving path\n",
    "path = './results'\n",
    "\n",
    "# Create a simulation environment\n",
    "patient = T1DPatient.withName('adolescent#001')\n",
    "sensor = CGMSensor.withName('Dexcom', seed=1)\n",
    "pump = InsulinPump.withName('Insulet')\n",
    "scenario = RandomScenario(start_time=start_time, seed=1)\n",
    "env = T1DSimEnv(patient, sensor, pump, scenario)\n",
    "\n",
    "# Create a controller\n",
    "controller = BBController()\n",
    "\n",
    "# Put them together to create a simulation object\n",
    "s1 = SimObj(env, controller, timedelta(days=1), animate=False, path=path)\n",
    "results1 = sim(s1)\n",
    "print(results1)\n",
    "\n",
    "# --------- Create Custom Scenario --------------\n",
    "# Create a simulation environment\n",
    "patient = T1DPatient.withName('adolescent#001')\n",
    "sensor = CGMSensor.withName('Dexcom', seed=1)\n",
    "pump = InsulinPump.withName('Insulet')\n",
    "# custom scenario is a list of tuples (time, meal_size)\n",
    "scen = [(7, 45), (12, 70), (16, 15), (18, 80), (23, 10)]\n",
    "scenario = CustomScenario(start_time=start_time, scenario=scen)\n",
    "env = T1DSimEnv(patient, sensor, pump, scenario)\n",
    "\n",
    "# Create a controller\n",
    "controller = BBController()\n",
    "\n",
    "# Put them together to create a simulation object\n",
    "s2 = SimObj(env, controller, timedelta(days=1), animate=False, path=path)\n",
    "results2 = sim(s2)\n",
    "print(results2)\n",
    "\n",
    "\n",
    "# --------- batch simulation --------------\n",
    "# Re-initialize simulation objects\n",
    "s1.reset()\n",
    "s2.reset()\n",
    "\n",
    "# create a list of SimObj, and call batch_sim\n",
    "s = [s1, s2]\n",
    "results = batch_sim(s, parallel=True)\n",
    "print(results)"
   ]
  }
 ],
 "metadata": {
  "language_info": {
   "name": "python"
  }
 },
 "nbformat": 4,
 "nbformat_minor": 2
}
